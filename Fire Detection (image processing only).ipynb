{
 "cells": [
  {
   "cell_type": "code",
   "execution_count": 1,
   "id": "9d429f85",
   "metadata": {},
   "outputs": [],
   "source": [
    "import cv2\n",
    "import numpy as np\n",
    "import playsound\n",
    "#import smtplib #library for sending email"
   ]
  },
  {
   "cell_type": "code",
   "execution_count": 2,
   "id": "9274aacb",
   "metadata": {},
   "outputs": [],
   "source": [
    "fire_reported = 0\n",
    "alarm_status = False\n",
    "email_status = False"
   ]
  },
  {
   "cell_type": "code",
   "execution_count": 3,
   "id": "b9d0f359",
   "metadata": {},
   "outputs": [],
   "source": [
    "def play_audio():\n",
    "    playsound.playsound(\"Alarm Sound.mp3\", True) #any audio file #represents buzzer in arduino"
   ]
  },
  {
   "cell_type": "code",
   "execution_count": 4,
   "id": "e0829be7",
   "metadata": {},
   "outputs": [],
   "source": [
    "def send_email_function():\n",
    "    pass\n",
    "#DON'T DO IT"
   ]
  },
  {
   "cell_type": "code",
   "execution_count": 5,
   "id": "cb7cbce8",
   "metadata": {},
   "outputs": [],
   "source": [
    "video = cv2.VideoCapture(\"D:/FCI/graduation project/smart city/Machine Learning/fire images and videos/Water Tank Explosion.mp4\") #Here this is a readymade video and we used the video name\n",
    "#type 0 instead of \"video.mov\" connect a webcam to your laptop and capture video"
   ]
  },
  {
   "cell_type": "code",
   "execution_count": 6,
   "id": "172f2982",
   "metadata": {},
   "outputs": [
    {
     "name": "stdout",
     "output_type": "stream",
     "text": [
      "FIRE !!!!!!!!!!!!!!!!!!!!!!!!!!!!!!!!\n",
      "video ended\n"
     ]
    }
   ],
   "source": [
    "while True: # while this loop is running, we will extract the frames from the video\n",
    "    ret, frame = video.read() #ret is a boolean value that indicates whether we are getting frames or not #frame is the variable that stores the frames\n",
    "    #Grabs, decodes and returns the next video frame.\n",
    "    if ret==False: # if the video ends, go out of the loop\n",
    "        print(\"video ended\")\n",
    "        break\n",
    "    \n",
    "    frame = cv2.resize(frame, (1000, 600)) #resize the frame to make it smaller\n",
    "    blur = cv2.GaussianBlur(frame, (15,15), 0) #blur the video to eliminate some noise\n",
    "    hsv = cv2.cvtColor(blur, cv2.COLOR_BGR2HSV) #change the color of the image to make contrast and search for a particular color\n",
    "    \n",
    "    lower = [18,50,50] # These are the thresholds that we will compare to\n",
    "    upper = [35,255,255]\n",
    "    \n",
    "    lower = np.array(lower, dtype = 'uint8') #convert lists to numpy arrays\n",
    "    upper = np.array(upper, dtype = 'uint8')\n",
    "    \n",
    "    mask = cv2.inRange(hsv, lower, upper) # We are looking for the range of colors lower and upper in the hsv\n",
    "    \n",
    "    output = cv2.bitwise_and(frame, hsv, mask=mask) # Used in detecting special parts of the image # ??????\n",
    "    \n",
    "    size = cv2.countNonZero(mask) # count the number of nonzero elements #mask or output ????\n",
    "    \n",
    "    if int(size) > 15000: # if number_of_total > 15000 then it is a fire\n",
    "        #print(\"Fire Detected\")\n",
    "        fire_reported += 1\n",
    "        if fire_reported >= 1:\n",
    "            if alarm_status == False:\n",
    "                print(\"FIRE !!!!!!!!!!!!!!!!!!!!!!!!!!!!!!!!\")\n",
    "                #play_audio()\n",
    "                alarm_status = True\n",
    "            \"\"\"\n",
    "            if email_status == False:\n",
    "                send_email_function()\n",
    "                email_status = True\n",
    "            \"\"\"   \n",
    "    \n",
    "    \n",
    "    \n",
    "    cv2.imshow(\"Output\", frame)\n",
    "    \n",
    "    if cv2.waitKey(1) & 0xFF == ord(\"q\"): #if q is pressed, then exit the program\n",
    "        break\n",
    "        \n",
    "cv2.destroyAllWindows()\n",
    "video.release()"
   ]
  },
  {
   "cell_type": "code",
   "execution_count": null,
   "id": "674fae05",
   "metadata": {},
   "outputs": [],
   "source": []
  }
 ],
 "metadata": {
  "kernelspec": {
   "display_name": "Python 3 (ipykernel)",
   "language": "python",
   "name": "python3"
  },
  "language_info": {
   "codemirror_mode": {
    "name": "ipython",
    "version": 3
   },
   "file_extension": ".py",
   "mimetype": "text/x-python",
   "name": "python",
   "nbconvert_exporter": "python",
   "pygments_lexer": "ipython3",
   "version": "3.10.6"
  }
 },
 "nbformat": 4,
 "nbformat_minor": 5
}
