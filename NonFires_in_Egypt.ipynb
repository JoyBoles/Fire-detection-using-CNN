{
 "cells": [
  {
   "cell_type": "code",
   "execution_count": 1,
   "metadata": {
    "id": "3ocRx6Fz2Z6_"
   },
   "outputs": [],
   "source": [
    "from tensorflow.keras.models import load_model"
   ]
  },
  {
   "cell_type": "code",
   "execution_count": 2,
   "metadata": {
    "id": "B9PRihWw2qVG"
   },
   "outputs": [],
   "source": [
    "model = load_model('D:/FCI/graduation project/smart city/Machine Learning/Fire_Detection_Model.h5')"
   ]
  },
  {
   "cell_type": "code",
   "execution_count": 3,
   "metadata": {
    "id": "in8CIEkT2x_q"
   },
   "outputs": [],
   "source": [
    "import glob"
   ]
  },
  {
   "cell_type": "code",
   "execution_count": 4,
   "metadata": {
    "id": "nj0i_c8g23Yl"
   },
   "outputs": [],
   "source": [
    "lst_fire_img = glob.glob('D:/FCI/graduation project/smart city/Machine Learning/fire and non fire images and videos/non fire images/*.jpg')"
   ]
  },
  {
   "cell_type": "code",
   "execution_count": 5,
   "metadata": {
    "colab": {
     "base_uri": "https://localhost:8080/"
    },
    "id": "i7uSXGNX3D5c",
    "outputId": "fc1db289-9570-4c41-8bdd-4e7689bb2c43"
   },
   "outputs": [
    {
     "name": "stdout",
     "output_type": "stream",
     "text": [
      "Number of images without fire : 13\n"
     ]
    }
   ],
   "source": [
    "print('Number of images without fire : {}'.format(len(lst_fire_img)))"
   ]
  },
  {
   "cell_type": "code",
   "execution_count": 6,
   "metadata": {
    "colab": {
     "base_uri": "https://localhost:8080/"
    },
    "id": "wMn306aY3L5r",
    "outputId": "30a51406-f0cf-4359-f066-1e81ad74757a"
   },
   "outputs": [
    {
     "data": {
      "text/plain": [
       "['D:/FCI/graduation project/smart city/Machine Learning/fire and non fire images and videos/non fire images\\\\1.jpg',\n",
       " 'D:/FCI/graduation project/smart city/Machine Learning/fire and non fire images and videos/non fire images\\\\10.jpg',\n",
       " 'D:/FCI/graduation project/smart city/Machine Learning/fire and non fire images and videos/non fire images\\\\11.jpg',\n",
       " 'D:/FCI/graduation project/smart city/Machine Learning/fire and non fire images and videos/non fire images\\\\12.jpg',\n",
       " 'D:/FCI/graduation project/smart city/Machine Learning/fire and non fire images and videos/non fire images\\\\13.jpg',\n",
       " 'D:/FCI/graduation project/smart city/Machine Learning/fire and non fire images and videos/non fire images\\\\2.jpg',\n",
       " 'D:/FCI/graduation project/smart city/Machine Learning/fire and non fire images and videos/non fire images\\\\3.jpg',\n",
       " 'D:/FCI/graduation project/smart city/Machine Learning/fire and non fire images and videos/non fire images\\\\4.jpg',\n",
       " 'D:/FCI/graduation project/smart city/Machine Learning/fire and non fire images and videos/non fire images\\\\5.jpg',\n",
       " 'D:/FCI/graduation project/smart city/Machine Learning/fire and non fire images and videos/non fire images\\\\6.jpg',\n",
       " 'D:/FCI/graduation project/smart city/Machine Learning/fire and non fire images and videos/non fire images\\\\7.jpg',\n",
       " 'D:/FCI/graduation project/smart city/Machine Learning/fire and non fire images and videos/non fire images\\\\8.jpg',\n",
       " 'D:/FCI/graduation project/smart city/Machine Learning/fire and non fire images and videos/non fire images\\\\9.jpg']"
      ]
     },
     "execution_count": 6,
     "metadata": {},
     "output_type": "execute_result"
    }
   ],
   "source": [
    "lst_fire_img"
   ]
  },
  {
   "cell_type": "code",
   "execution_count": 7,
   "metadata": {
    "id": "YCoD6TM93jTn"
   },
   "outputs": [],
   "source": [
    "import random"
   ]
  },
  {
   "cell_type": "code",
   "execution_count": 8,
   "metadata": {
    "id": "fKdf8DRs4BmH"
   },
   "outputs": [],
   "source": [
    "lst_fire = []\n",
    "for x in lst_fire_img:\n",
    "    lst_fire.append([x,0])\n",
    "\n",
    "random.shuffle(lst_fire)"
   ]
  },
  {
   "cell_type": "code",
   "execution_count": 9,
   "metadata": {
    "id": "sG486VU94Nzb"
   },
   "outputs": [],
   "source": [
    "import pandas as pd"
   ]
  },
  {
   "cell_type": "code",
   "execution_count": 10,
   "metadata": {
    "colab": {
     "base_uri": "https://localhost:8080/",
     "height": 363
    },
    "id": "BrIP4rM64RTE",
    "outputId": "dde4cbff-6989-44ee-9a5b-b4a6bfcf821e"
   },
   "outputs": [
    {
     "data": {
      "text/html": [
       "<div>\n",
       "<style scoped>\n",
       "    .dataframe tbody tr th:only-of-type {\n",
       "        vertical-align: middle;\n",
       "    }\n",
       "\n",
       "    .dataframe tbody tr th {\n",
       "        vertical-align: top;\n",
       "    }\n",
       "\n",
       "    .dataframe thead th {\n",
       "        text-align: right;\n",
       "    }\n",
       "</style>\n",
       "<table border=\"1\" class=\"dataframe\">\n",
       "  <thead>\n",
       "    <tr style=\"text-align: right;\">\n",
       "      <th></th>\n",
       "      <th>files</th>\n",
       "      <th>target</th>\n",
       "    </tr>\n",
       "  </thead>\n",
       "  <tbody>\n",
       "    <tr>\n",
       "      <th>0</th>\n",
       "      <td>D:/FCI/graduation project/smart city/Machine L...</td>\n",
       "      <td>0</td>\n",
       "    </tr>\n",
       "    <tr>\n",
       "      <th>1</th>\n",
       "      <td>D:/FCI/graduation project/smart city/Machine L...</td>\n",
       "      <td>0</td>\n",
       "    </tr>\n",
       "    <tr>\n",
       "      <th>2</th>\n",
       "      <td>D:/FCI/graduation project/smart city/Machine L...</td>\n",
       "      <td>0</td>\n",
       "    </tr>\n",
       "    <tr>\n",
       "      <th>3</th>\n",
       "      <td>D:/FCI/graduation project/smart city/Machine L...</td>\n",
       "      <td>0</td>\n",
       "    </tr>\n",
       "    <tr>\n",
       "      <th>4</th>\n",
       "      <td>D:/FCI/graduation project/smart city/Machine L...</td>\n",
       "      <td>0</td>\n",
       "    </tr>\n",
       "    <tr>\n",
       "      <th>5</th>\n",
       "      <td>D:/FCI/graduation project/smart city/Machine L...</td>\n",
       "      <td>0</td>\n",
       "    </tr>\n",
       "    <tr>\n",
       "      <th>6</th>\n",
       "      <td>D:/FCI/graduation project/smart city/Machine L...</td>\n",
       "      <td>0</td>\n",
       "    </tr>\n",
       "    <tr>\n",
       "      <th>7</th>\n",
       "      <td>D:/FCI/graduation project/smart city/Machine L...</td>\n",
       "      <td>0</td>\n",
       "    </tr>\n",
       "    <tr>\n",
       "      <th>8</th>\n",
       "      <td>D:/FCI/graduation project/smart city/Machine L...</td>\n",
       "      <td>0</td>\n",
       "    </tr>\n",
       "    <tr>\n",
       "      <th>9</th>\n",
       "      <td>D:/FCI/graduation project/smart city/Machine L...</td>\n",
       "      <td>0</td>\n",
       "    </tr>\n",
       "    <tr>\n",
       "      <th>10</th>\n",
       "      <td>D:/FCI/graduation project/smart city/Machine L...</td>\n",
       "      <td>0</td>\n",
       "    </tr>\n",
       "    <tr>\n",
       "      <th>11</th>\n",
       "      <td>D:/FCI/graduation project/smart city/Machine L...</td>\n",
       "      <td>0</td>\n",
       "    </tr>\n",
       "    <tr>\n",
       "      <th>12</th>\n",
       "      <td>D:/FCI/graduation project/smart city/Machine L...</td>\n",
       "      <td>0</td>\n",
       "    </tr>\n",
       "  </tbody>\n",
       "</table>\n",
       "</div>"
      ],
      "text/plain": [
       "                                                files  target\n",
       "0   D:/FCI/graduation project/smart city/Machine L...       0\n",
       "1   D:/FCI/graduation project/smart city/Machine L...       0\n",
       "2   D:/FCI/graduation project/smart city/Machine L...       0\n",
       "3   D:/FCI/graduation project/smart city/Machine L...       0\n",
       "4   D:/FCI/graduation project/smart city/Machine L...       0\n",
       "5   D:/FCI/graduation project/smart city/Machine L...       0\n",
       "6   D:/FCI/graduation project/smart city/Machine L...       0\n",
       "7   D:/FCI/graduation project/smart city/Machine L...       0\n",
       "8   D:/FCI/graduation project/smart city/Machine L...       0\n",
       "9   D:/FCI/graduation project/smart city/Machine L...       0\n",
       "10  D:/FCI/graduation project/smart city/Machine L...       0\n",
       "11  D:/FCI/graduation project/smart city/Machine L...       0\n",
       "12  D:/FCI/graduation project/smart city/Machine L...       0"
      ]
     },
     "execution_count": 10,
     "metadata": {},
     "output_type": "execute_result"
    }
   ],
   "source": [
    "df = pd.DataFrame(lst_fire,columns = ['files','target'])\n",
    "df"
   ]
  },
  {
   "cell_type": "code",
   "execution_count": 11,
   "metadata": {},
   "outputs": [
    {
     "data": {
      "text/plain": [
       "files     D:/FCI/graduation project/smart city/Machine L...\n",
       "target                                                    0\n",
       "Name: 12, dtype: object"
      ]
     },
     "execution_count": 11,
     "metadata": {},
     "output_type": "execute_result"
    }
   ],
   "source": [
    "df.iloc[12]"
   ]
  },
  {
   "cell_type": "code",
   "execution_count": 12,
   "metadata": {
    "id": "Pmn0IGxl4WLA"
   },
   "outputs": [],
   "source": [
    "import cv2"
   ]
  },
  {
   "cell_type": "code",
   "execution_count": 13,
   "metadata": {
    "id": "dKQKmsjI4aOd"
   },
   "outputs": [],
   "source": [
    "def preprocessing_image(filepath):\n",
    "    img = cv2.imread(filepath) #read\n",
    "    if img is None:\n",
    "        print(\"Error: Could not load image\")\n",
    "    img = cv2.cvtColor(img,cv2.COLOR_RGB2BGR) #convert\n",
    "    img = cv2.resize(img,(196,196))  # resize\n",
    "    img = img / 255 #scale\n",
    "    return img"
   ]
  },
  {
   "cell_type": "code",
   "execution_count": 14,
   "metadata": {
    "id": "1MPuCURX4cyC"
   },
   "outputs": [],
   "source": [
    "import numpy as np"
   ]
  },
  {
   "cell_type": "code",
   "execution_count": 15,
   "metadata": {
    "id": "uEa8iIgb4fCr"
   },
   "outputs": [],
   "source": [
    "def create_format_dataset(dataframe):\n",
    "    X = []\n",
    "    y = []\n",
    "    i=0\n",
    "    for f,t in dataframe.values:\n",
    "        i+=1\n",
    "        print(i)\n",
    "        X.append(preprocessing_image(f))\n",
    "        y.append(t)\n",
    "\n",
    "    return np.array(X),np.array(y)"
   ]
  },
  {
   "cell_type": "code",
   "execution_count": 16,
   "metadata": {
    "id": "ywntnusN4igw"
   },
   "outputs": [
    {
     "name": "stdout",
     "output_type": "stream",
     "text": [
      "1\n",
      "2\n",
      "3\n",
      "4\n",
      "5\n",
      "6\n",
      "7\n",
      "8\n",
      "9\n",
      "10\n",
      "11\n",
      "12\n",
      "13\n"
     ]
    }
   ],
   "source": [
    "X, y = create_format_dataset(df)"
   ]
  },
  {
   "cell_type": "code",
   "execution_count": 17,
   "metadata": {
    "colab": {
     "base_uri": "https://localhost:8080/"
    },
    "id": "0olt8n0B7-Dw",
    "outputId": "cc4f61f2-4dde-4724-a52d-66396bff5423"
   },
   "outputs": [
    {
     "data": {
      "text/plain": [
       "array([0, 0, 0, 0, 0, 0, 0, 0, 0, 0, 0, 0, 0])"
      ]
     },
     "execution_count": 17,
     "metadata": {},
     "output_type": "execute_result"
    }
   ],
   "source": [
    "y"
   ]
  },
  {
   "cell_type": "code",
   "execution_count": 18,
   "metadata": {
    "colab": {
     "base_uri": "https://localhost:8080/"
    },
    "id": "7pkKjT9f5HM6",
    "outputId": "9521ec0e-5d8d-469c-bce0-ba3a158b33cd"
   },
   "outputs": [
    {
     "name": "stdout",
     "output_type": "stream",
     "text": [
      "(13, 196, 196, 3)\n",
      "(13,)\n"
     ]
    }
   ],
   "source": [
    "print(X.shape)\n",
    "print(y.shape)"
   ]
  },
  {
   "cell_type": "code",
   "execution_count": 19,
   "metadata": {
    "colab": {
     "base_uri": "https://localhost:8080/"
    },
    "id": "Q4XeOyeZ5Hgt",
    "outputId": "21370367-e9a0-4938-edfb-ba1a19c5e12b"
   },
   "outputs": [
    {
     "name": "stdout",
     "output_type": "stream",
     "text": [
      "1/1 [==============================] - 1s 609ms/step\n"
     ]
    }
   ],
   "source": [
    "y_pred = model.predict(X)"
   ]
  },
  {
   "cell_type": "code",
   "execution_count": 20,
   "metadata": {
    "id": "kzS0Pq795H-Q"
   },
   "outputs": [],
   "source": [
    "y_pred = y_pred > 0.5"
   ]
  },
  {
   "cell_type": "code",
   "execution_count": 21,
   "metadata": {
    "colab": {
     "base_uri": "https://localhost:8080/"
    },
    "id": "0yRkA4mU8Zdp",
    "outputId": "c0605a15-f2d0-4df4-dbae-de5d6c3f5281"
   },
   "outputs": [
    {
     "data": {
      "text/plain": [
       "array([[ True],\n",
       "       [False],\n",
       "       [False],\n",
       "       [False],\n",
       "       [ True],\n",
       "       [False],\n",
       "       [False],\n",
       "       [False],\n",
       "       [ True],\n",
       "       [ True],\n",
       "       [False],\n",
       "       [False],\n",
       "       [ True]])"
      ]
     },
     "execution_count": 21,
     "metadata": {},
     "output_type": "execute_result"
    }
   ],
   "source": [
    "y_pred"
   ]
  },
  {
   "cell_type": "code",
   "execution_count": 22,
   "metadata": {
    "id": "769YiMVh5IJm"
   },
   "outputs": [],
   "source": [
    "import matplotlib.pyplot as plt\n",
    "import seaborn as sns\n",
    "from sklearn.metrics import confusion_matrix,classification_report"
   ]
  },
  {
   "cell_type": "code",
   "execution_count": 23,
   "metadata": {
    "colab": {
     "base_uri": "https://localhost:8080/",
     "height": 575
    },
    "id": "8O252nQ14npo",
    "outputId": "85f7b26a-964a-4651-e42e-a83cc28c0219"
   },
   "outputs": [
    {
     "data": {
      "image/png": "[encoded data removed]",
      "text/plain": [
       "<Figure size 1440x720 with 2 Axes>"
      ]
     },
     "metadata": {
      "needs_background": "light"
     },
     "output_type": "display_data"
    }
   ],
   "source": [
    "plt.figure(figsize = (20,10))\n",
    "\n",
    "sns.heatmap(confusion_matrix(y,y_pred),annot = True)\n",
    "plt.title(\"Confusion Matrix\")\n",
    "plt.xlabel(\"Predicted\")\n",
    "plt.ylabel(\"True\")\n",
    "\n",
    "plt.show()"
   ]
  },
  {
   "cell_type": "code",
   "execution_count": 24,
   "metadata": {
    "colab": {
     "base_uri": "https://localhost:8080/"
    },
    "id": "grs8rjK97gUV",
    "outputId": "f0be2cb7-4b5d-4ca0-d569-7f414c20fe98"
   },
   "outputs": [
    {
     "name": "stdout",
     "output_type": "stream",
     "text": [
      "              precision    recall  f1-score   support\n",
      "\n",
      "           0       1.00      0.62      0.76        13\n",
      "           1       0.00      0.00      0.00         0\n",
      "\n",
      "    accuracy                           0.62        13\n",
      "   macro avg       0.50      0.31      0.38        13\n",
      "weighted avg       1.00      0.62      0.76        13\n",
      "\n"
     ]
    },
    {
     "name": "stderr",
     "output_type": "stream",
     "text": [
      "D:\\python 3.10.6\\lib\\site-packages\\sklearn\\metrics\\_classification.py:1334: UndefinedMetricWarning: Recall and F-score are ill-defined and being set to 0.0 in labels with no true samples. Use `zero_division` parameter to control this behavior.\n",
      "  _warn_prf(average, modifier, msg_start, len(result))\n",
      "D:\\python 3.10.6\\lib\\site-packages\\sklearn\\metrics\\_classification.py:1334: UndefinedMetricWarning: Recall and F-score are ill-defined and being set to 0.0 in labels with no true samples. Use `zero_division` parameter to control this behavior.\n",
      "  _warn_prf(average, modifier, msg_start, len(result))\n",
      "D:\\python 3.10.6\\lib\\site-packages\\sklearn\\metrics\\_classification.py:1334: UndefinedMetricWarning: Recall and F-score are ill-defined and being set to 0.0 in labels with no true samples. Use `zero_division` parameter to control this behavior.\n",
      "  _warn_prf(average, modifier, msg_start, len(result))\n"
     ]
    }
   ],
   "source": [
    "print(classification_report(y,y_pred))"
   ]
  },
  {
   "cell_type": "code",
   "execution_count": null,
   "metadata": {
    "id": "bRIQeads7qBM"
   },
   "outputs": [],
   "source": []
  }
 ],
 "metadata": {
  "accelerator": "GPU",
  "colab": {
   "provenance": []
  },
  "gpuClass": "standard",
  "kernelspec": {
   "display_name": "Python 3 (ipykernel)",
   "language": "python",
   "name": "python3"
  },
  "language_info": {
   "codemirror_mode": {
    "name": "ipython",
    "version": 3
   },
   "file_extension": ".py",
   "mimetype": "text/x-python",
   "name": "python",
   "nbconvert_exporter": "python",
   "pygments_lexer": "ipython3",
   "version": "3.10.6"
  }
 },
 "nbformat": 4,
 "nbformat_minor": 1
}
